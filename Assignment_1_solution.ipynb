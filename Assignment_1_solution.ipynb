{
 "cells": [
  {
   "cell_type": "code",
   "execution_count": null,
   "id": "6a388928",
   "metadata": {},
   "outputs": [],
   "source": [
    "1.  ‘*’ : expression\n",
    "    'Hello' : value \n",
    "    -87.8 : value\n",
    "     “-”  : expression\n",
    "     “/”  : expression\n",
    "     “+” : expression\n",
    "      6 : value"
   ]
  },
  {
   "cell_type": "markdown",
   "id": "c5a68d56",
   "metadata": {},
   "source": [
    "2.Difference between string and variable:\n",
    "     Variables are symbols that can be used to store data in a program. This can be thought of as an empty box that is filled with some data or value. Strings are data that can be used to fill up a variable.\n",
    "Example: x = “hello world” here x is a variable and “hello world” is a string.\n"
   ]
  },
  {
   "cell_type": "raw",
   "id": "010bbc96",
   "metadata": {},
   "source": [
    "3. Three different data types:\n",
    "   Integers: Integers are whole numbers, without a fractional component. They can be positive or negative.\n",
    "    Floats: Floats represent real numbers and are written with a decimal point.\n",
    "    Strings: Strings in Python are sequences of character data. They are created by enclosing characters in quotes.\n"
   ]
  },
  {
   "cell_type": "raw",
   "id": "17c33c44",
   "metadata": {},
   "source": [
    "4. Expressions are made up of a combination of operands and operators.\n",
    "    There are different types of expressions in python:\n",
    " Arithmetic Operators : Used to perform mathematical operations. \n",
    "For example, +,-,*,/,%,**,//\n",
    " Assignment Operators: Used to assign values to variables.\n",
    "For example, =,+=,-=,*=,/=\n",
    " Comparison Operators: Used to compare two values.\n",
    "For example,==,!=,>,<,>=,<=\n",
    " Logical Operators: Used to combine conditional statements.\n",
    "For example, and, or, not\n",
    " Right Shift Operator(>>): Shifts the bits of the number to the right by the number of bits specified. Each shift to the right corresponds to dividing the number by 2. \n",
    "Left Shift Operator(<<): Shifts the bits of the number to the left by the number of bits specified. Each shift to the left corresponds to multiplying the number by 2.\n"
   ]
  },
  {
   "cell_type": "raw",
   "id": "df072301",
   "metadata": {},
   "source": [
    "5. A statement in Python is used for creating variables or for displaying values. The expression in Python produces some value or result after being interpreted by the Python interpreter.\n"
   ]
  },
  {
   "cell_type": "raw",
   "id": "9a17a9a7",
   "metadata": {},
   "source": [
    "6. bacon contains the value 23."
   ]
  },
  {
   "cell_type": "raw",
   "id": "22914d84",
   "metadata": {},
   "source": [
    "7. Both the terms return the value:\n",
    "    'Spamspamspam'"
   ]
  },
  {
   "cell_type": "raw",
   "id": "2f8d0846",
   "metadata": {},
   "source": [
    "8. In python we can’t start a variable name by a digit. That's why eggs is valid variable name but 100 is not."
   ]
  }
 ],
 "metadata": {
  "kernelspec": {
   "display_name": "Python 3 (ipykernel)",
   "language": "python",
   "name": "python3"
  },
  "language_info": {
   "codemirror_mode": {
    "name": "ipython",
    "version": 3
   },
   "file_extension": ".py",
   "mimetype": "text/x-python",
   "name": "python",
   "nbconvert_exporter": "python",
   "pygments_lexer": "ipython3",
   "version": "3.11.3"
  }
 },
 "nbformat": 4,
 "nbformat_minor": 5
}
